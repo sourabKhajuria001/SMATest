{
 "cells": [
  {
   "cell_type": "code",
   "execution_count": null,
   "id": "4bb5d501",
   "metadata": {},
   "outputs": [],
   "source": [
    "import pandas as pd\n",
    "import numpy as np\n",
    "import yfinance as yf\n",
    "import matplotlib.pyplot as plt\n",
    "\n",
    "class SMABackTester():\n",
    "    def __init__(self,symbol,SMA_S,SMA_L,start,end):\n",
    "        self.symbol=symbol\n",
    "        self.SMA_S=SMA_S\n",
    "        self.SMA_L=SMA_L\n",
    "        self.start=start\n",
    "        self.end=end\n",
    "        self.results=None\n",
    "        self.get_data()\n",
    "    \n",
    "    def get_data(self):\n",
    "        df=yf.download(self.symbol, start=self.start, end=self.end)\n",
    "        data=df.Close.to_frame()\n",
    "        data[\"returns\"]=np.log(data.Close.div(data.Close.shift(1)))\n",
    "        data[\"SMA_S\"]=data.Close.rolling(self.SMA_S).mean()\n",
    "        data[\"SMA_L\"]=data.Close.rolling(self.SMA_L).mean()\n",
    "        data.dropna(inplace=True)\n",
    "        self.data2=data\n",
    "\n",
    "        return data\n",
    "\n",
    "    def test_results(self):\n",
    "        data = self.data2.copy().dropna()\n",
    "        data[\"position\"]=np.where(data[\"SMA_S\"]>data[\"SMA_L\"],1,-1)\n",
    "        data[\"strategy\"]=data[\"returns\"]*data.position.shift(1)\n",
    "        data.dropna(inplace=True)\n",
    "        data[\"return_bh\"]=data[\"returns\"].cumsum().apply(np.exp)\n",
    "        data[\"returns_strategy\"]=data[\"strategy\"].cumsum().apply(np.exp)\n",
    "        perf =  data[\"returns_strategy\"].iloc[-1]\n",
    "        outperf =  perf-data[\"return_bh\"].iloc[-1]\n",
    "        self.results=data\n",
    "\n",
    "        ret=np.exp(data[\"strategy\"].sum())\n",
    "        std=data[\"strategy\"].std()*np.sqrt(252)\n",
    "\n",
    "        return round(perf,6),round(outperf,6)\n",
    "\n",
    "    def plot_results(self):\n",
    "        if self.results is None :\n",
    "            print(\"--- run the test Please-----\")\n",
    "        else:\n",
    "            title=f\"{self.symbol} : SMS _S={self.SMA_S} | SMS_L={self.SMA_L}\"\n",
    "            self.results[[\"return_bh\",\"returns_strategy\"]].plot(title=title,figsize=(20,10))\n",
    "            plt.show()"
   ]
  }
 ],
 "metadata": {
  "kernelspec": {
   "display_name": "Python 3 (ipykernel)",
   "language": "python",
   "name": "python3"
  },
  "language_info": {
   "codemirror_mode": {
    "name": "ipython",
    "version": 3
   },
   "file_extension": ".py",
   "mimetype": "text/x-python",
   "name": "python",
   "nbconvert_exporter": "python",
   "pygments_lexer": "ipython3",
   "version": "3.9.13"
  }
 },
 "nbformat": 4,
 "nbformat_minor": 5
}
